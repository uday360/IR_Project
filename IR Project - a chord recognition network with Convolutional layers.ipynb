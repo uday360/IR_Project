{
 "cells": [
  {
   "cell_type": "markdown",
   "metadata": {},
   "source": [
    "# IR Project - Chord recognition convnet\n",
    "\n",
    "We're gonna use synthesize data and use CQT as representation. "
   ]
  },
  {
   "cell_type": "code",
   "execution_count": 1,
   "metadata": {},
   "outputs": [
    {
     "name": "stderr",
     "output_type": "stream",
     "text": [
      "Using TensorFlow backend.\n"
     ]
    }
   ],
   "source": [
    "%matplotlib inline\n",
    "import numpy as np\n",
    "import librosa\n",
    "import keras\n",
    "import keras.backend as K\n",
    "from matplotlib import pyplot as plt\n",
    "from future.utils import implements_iterator  # for python 2 compatibility for __next__()\n",
    "\n",
    "import warnings\n",
    "warnings.filterwarnings('ignore')"
   ]
  },
  {
   "cell_type": "markdown",
   "metadata": {},
   "source": [
    "### Utility function to generate data"
   ]
  },
  {
   "cell_type": "code",
   "execution_count": 2,
   "metadata": {
    "collapsed": true
   },
   "outputs": [],
   "source": [
    "def sin_wave(secs, freq, sr, gain):\n",
    "    '''\n",
    "    Generates a sine wave of frequency given by freq, with duration of secs.\n",
    "    '''\n",
    "    t = np.arange(sr * secs)\n",
    "    return gain * np.sin(2 * np.pi * freq * t / sr)\n",
    "\n",
    "\n",
    "def whitenoise(gain, shape):\n",
    "    '''\n",
    "    Generates white noise of duration given by secs\n",
    "    '''\n",
    "    return gain * np.random.uniform(-1., 1., shape)\n",
    "\n",
    "def chord_wave(secs, f0, sr, gain, major):\n",
    "    \"\"\"major: bool\"\"\"\n",
    "    t = np.arange(sr * secs)\n",
    "    sine_f0 = gain * np.sin(2 * np.pi * f0 * t / sr)\n",
    "    if major:\n",
    "        sine_third = gain * np.sin(2 * np.pi * f0 * 2. ** (4./12.) * t / sr)\n",
    "    else:\n",
    "        sine_third = gain * np.sin(2 * np.pi * f0 * 2. ** (3./12.) * t / sr)\n",
    "    return sine_f0 + sine_third"
   ]
  },
  {
   "cell_type": "code",
   "execution_count": 3,
   "metadata": {
    "collapsed": true
   },
   "outputs": [],
   "source": [
    "def add_channel_axis(cqt):\n",
    "    if K.image_data_format == 'channels_first':\n",
    "        return cqt[np.newaxis, :, :]\n",
    "    else:\n",
    "        return cqt[:, :, np.newaxis]"
   ]
  },
  {
   "cell_type": "code",
   "execution_count": 4,
   "metadata": {
    "collapsed": true
   },
   "outputs": [],
   "source": [
    "class DataGen:\n",
    "    def __init__(self, sr=16000, batch_size=128):\n",
    "        np.random.seed(1209)\n",
    "        self.pitches = [440., 466.2, 493.8, 523.3, 554.4, 587.3,\n",
    "                        622.3, 659.3, 698.5, 740., 784.0, 830.6]\n",
    "\n",
    "        self.sr = sr\n",
    "        self.n_class = 2 # major or minor\n",
    "        self.secs = 1.\n",
    "        self.batch_size = batch_size\n",
    "        self.labels = np.eye(self.n_class)[range(0, self.n_class)]  # 1-hot-vectors\n",
    "    \n",
    "        self.major_cqts = []\n",
    "        self.minor_cqts = []\n",
    "        \n",
    "        for freq in self.pitches:\n",
    "            cqt = librosa.cqt(chord_wave(self.secs, freq, self.sr, gain=0.5, major=True), sr=sr,\n",
    "                              fmin=220, n_bins=36, filter_scale=2)[:, 2:5]  # use three frames!\n",
    "            cqt = librosa.amplitude_to_db(cqt, ref=np.min)\n",
    "            cqt = cqt / np.max(cqt) # cqt in 2d\n",
    "            \n",
    "            self.major_cqts.append(add_channel_axis(cqt))\n",
    "            \n",
    "            cqt = librosa.cqt(chord_wave(self.secs, freq, self.sr, gain=0.5, major=False), sr=sr,\n",
    "                              fmin=220, n_bins=36, filter_scale=2)[:, 2:5]  # use three frame!\n",
    "            cqt = librosa.amplitude_to_db(cqt, ref=np.min)\n",
    "            cqt = cqt / np.max(cqt)\n",
    "            self.minor_cqts.append(add_channel_axis(cqt))\n",
    "\n",
    "        self.cqt_shape = add_channel_axis(cqt).shape  # (1, 36, 3) or (36, 3, 1)\n",
    "\n",
    "    def __next__(self): \n",
    "        \"\"\"Yielding half Major, half minor\"\"\"\n",
    "        choice = np.random.choice(12, size=self.batch_size // 2, # pick pitches for this batch\n",
    "                                  replace=True)\n",
    "        noise_gain = 0.1 * np.random.random_sample(1)  # a random noise gain \n",
    "        noise = whitenoise(noise_gain, self.cqt_shape)  # generate white noise\n",
    "        xs = [noise + self.major_cqts[i] for i in choice]  # compose a batch with additive noise (Major)\n",
    "        xs += [noise + self.minor_cqts[i] for i in choice]  # compose a batch with additive noise (minor)\n",
    "        \n",
    "        ys = np.eye(2)[np.hstack((np.zeros(self.batch_size // 2, dtype=np.int), \n",
    "                                  np.ones(self.batch_size // 2, dtype=np.int)))] # corresponding labels\n",
    "\n",
    "        return np.array(xs, dtype=np.float32), np.array(ys, dtype=np.float32)\n",
    "    \n",
    "    next = __next__"
   ]
  },
  {
   "cell_type": "markdown",
   "metadata": {},
   "source": [
    "So, Major is labeled as [1, 0], and minor as [0, 1]."
   ]
  },
  {
   "cell_type": "markdown",
   "metadata": {},
   "source": [
    "## Experiment"
   ]
  },
  {
   "cell_type": "code",
   "execution_count": 6,
   "metadata": {
    "collapsed": true
   },
   "outputs": [],
   "source": [
    "datagen = DataGen()\n",
    "x, y = next(datagen)"
   ]
  },
  {
   "cell_type": "markdown",
   "metadata": {},
   "source": [
    "### How does input data look like?"
   ]
  },
  {
   "cell_type": "code",
   "execution_count": 7,
   "metadata": {
    "scrolled": false
   },
   "outputs": [
    {
     "data": {
      "image/png": "[encoded data removed]",
      "text/plain": [
       "<matplotlib.figure.Figure at 0x11c527a90>"
      ]
     },
     "metadata": {},
     "output_type": "display_data"
    }
   ],
   "source": [
    "plt.figure(figsize=(14, 7))\n",
    "if K.image_data_format == 'channels_first':\n",
    "    for i in range(4):\n",
    "        plt.subplot(1, 10, i+1)\n",
    "        plt.imshow(x[i, 0], cmap=plt.get_cmap('Blues'))\n",
    "        plt.subplot(1, 10, 6+i)\n",
    "        plt.imshow(x[64 + i, 0], cmap=plt.get_cmap('Blues'))\n",
    "else:\n",
    "    for i in range(4):\n",
    "        plt.subplot(1, 10, i+1)\n",
    "        plt.imshow(x[i, :, :, 0], cmap=plt.get_cmap('Blues'))\n",
    "        plt.subplot(1, 10, 6+i)\n",
    "        plt.imshow(x[64 + i, :, :, 0], cmap=plt.get_cmap('Blues'))\n"
   ]
  },
  {
   "cell_type": "markdown",
   "metadata": {},
   "source": [
    "(Major inputs on left, minor inputs on right.)"
   ]
  },
  {
   "cell_type": "markdown",
   "metadata": {},
   "source": [
    "### Buld a convnet model!"
   ]
  },
  {
   "cell_type": "code",
   "execution_count": 8,
   "metadata": {
    "collapsed": true
   },
   "outputs": [],
   "source": [
    "val_datagen = DataGen() # this is a generator for validation set"
   ]
  },
  {
   "cell_type": "markdown",
   "metadata": {},
   "source": [
    "* This convlayer takes `(36, 3)` with single channel input.\n",
    "* The kernel size is (5, 3) so that it can cover the spectral patterns of major and minor chords."
   ]
  },
  {
   "cell_type": "code",
   "execution_count": 9,
   "metadata": {
    "collapsed": true
   },
   "outputs": [],
   "source": [
    "# even a simplet network -- one conv layer and that's it!\n",
    "# If you wanna try it. \n",
    "\n",
    "\n",
    "# model = keras.models.Sequential()\n",
    "# model.add(keras.layers.convolutional.Conv2D(datagen.n_class, (5, 3), use_bias=False, padding='same',\n",
    "#                              input_shape=datagen.cqt_shape)) # A conv2d layer (36 input nodes --> 8 output nodes)\n",
    "# model.add(keras.layers.pooling.GlobalMaxPooling2D())\n",
    "# model.add(keras.layers.Activation('softmax'))  # Softmax because it's single-label classification\n",
    "\n",
    "# model.compile(optimizer=keras.optimizers.SGD(lr=0.01, momentum=0.9,  # a pretty standard optimizer\n",
    "#                                              decay=1e-6, nesterov=True),\n",
    "#               loss='categorical_crossentropy',  # categorical crossentropy makes sense with Softmax\n",
    "#               metrics=['accuracy'])  # we'll also measure the performance but it's NOT a loss function  "
   ]
  },
  {
   "cell_type": "code",
   "execution_count": 9,
   "metadata": {
    "collapsed": true
   },
   "outputs": [],
   "source": [
    "np.random.seed(12345)\n",
    "model = keras.models.Sequential()\n",
    "model.add(keras.layers.convolutional.Conv2D(4, (5, 3), use_bias=False, padding='valid',\n",
    "                             input_shape=datagen.cqt_shape)) # A conv2d layer (36 input nodes --> 8 output nodes)\n",
    "model.add(keras.layers.pooling.GlobalMaxPooling2D())\n",
    "model.add(keras.layers.Activation('relu'))\n",
    "model.add(keras.layers.Dense(datagen.n_class, use_bias=False))\n",
    "model.add(keras.layers.Activation('softmax'))\n",
    "\n",
    "model.compile(optimizer=keras.optimizers.SGD(lr=0.01, momentum=0.9,  # a pretty standard optimizer\n",
    "                                             decay=1e-6, nesterov=True),\n",
    "              loss='categorical_crossentropy',  # categorical crossentropy makes sense with Softmax\n",
    "              metrics=['accuracy'])  # we'll also measure the performance but it's NOT a loss function  "
   ]
  },
  {
   "cell_type": "code",
   "execution_count": 10,
   "metadata": {},
   "outputs": [
    {
     "name": "stdout",
     "output_type": "stream",
     "text": [
      "_________________________________________________________________\n",
      "Layer (type)                 Output Shape              Param #   \n",
      "=================================================================\n",
      "conv2d_1 (Conv2D)            (None, 32, 1, 4)          60        \n",
      "_________________________________________________________________\n",
      "global_max_pooling2d_1 (Glob (None, 4)                 0         \n",
      "_________________________________________________________________\n",
      "activation_1 (Activation)    (None, 4)                 0         \n",
      "_________________________________________________________________\n",
      "dense_1 (Dense)              (None, 2)                 8         \n",
      "_________________________________________________________________\n",
      "activation_2 (Activation)    (None, 2)                 0         \n",
      "=================================================================\n",
      "Total params: 68\n",
      "Trainable params: 68\n",
      "Non-trainable params: 0\n",
      "_________________________________________________________________\n"
     ]
    }
   ],
   "source": [
    "model.summary()"
   ]
  },
  {
   "cell_type": "markdown",
   "metadata": {},
   "source": [
    "### Train it!"
   ]
  },
  {
   "cell_type": "code",
   "execution_count": 11,
   "metadata": {
    "scrolled": false
   },
   "outputs": [
    {
     "name": "stdout",
     "output_type": "stream",
     "text": [
      "Epoch 1/15\n",
      "200/200 [==============================] - 1s - loss: 0.6179 - acc: 0.8118 - val_loss: 0.4627 - val_acc: 1.0000\n",
      "Epoch 2/15\n",
      "200/200 [==============================] - 0s - loss: 0.2446 - acc: 1.0000 - val_loss: 0.1072 - val_acc: 1.0000\n",
      "Epoch 3/15\n",
      "200/200 [==============================] - 1s - loss: 0.0611 - acc: 1.0000 - val_loss: 0.0396 - val_acc: 1.0000\n",
      "Epoch 4/15\n",
      "200/200 [==============================] - 0s - loss: 0.0279 - acc: 1.0000 - val_loss: 0.0262 - val_acc: 1.0000\n",
      "Epoch 5/15\n",
      "200/200 [==============================] - 0s - loss: 0.0170 - acc: 1.0000 - val_loss: 0.0130 - val_acc: 1.0000\n",
      "Epoch 6/15\n",
      "200/200 [==============================] - 0s - loss: 0.0122 - acc: 1.0000 - val_loss: 0.0090 - val_acc: 1.0000\n",
      "Epoch 7/15\n",
      "200/200 [==============================] - 1s - loss: 0.0093 - acc: 1.0000 - val_loss: 0.0114 - val_acc: 1.0000\n",
      "Epoch 8/15\n",
      "200/200 [==============================] - 1s - loss: 0.0075 - acc: 1.0000 - val_loss: 0.0072 - val_acc: 1.0000\n",
      "Epoch 9/15\n",
      "200/200 [==============================] - 0s - loss: 0.0063 - acc: 1.0000 - val_loss: 0.0080 - val_acc: 1.0000\n",
      "Epoch 10/15\n",
      "200/200 [==============================] - 0s - loss: 0.0053 - acc: 1.0000 - val_loss: 0.0049 - val_acc: 1.0000\n",
      "Epoch 11/15\n",
      "200/200 [==============================] - 0s - loss: 0.0049 - acc: 1.0000 - val_loss: 0.0046 - val_acc: 1.0000\n",
      "Epoch 12/15\n",
      "200/200 [==============================] - 0s - loss: 0.0039 - acc: 1.0000 - val_loss: 0.0042 - val_acc: 1.0000\n",
      "Epoch 13/15\n",
      "200/200 [==============================] - 1s - loss: 0.0037 - acc: 1.0000 - val_loss: 0.0035 - val_acc: 1.0000\n",
      "Epoch 14/15\n",
      "200/200 [==============================] - 1s - loss: 0.0033 - acc: 1.0000 - val_loss: 0.0044 - val_acc: 1.0000\n",
      "Epoch 15/15\n",
      "200/200 [==============================] - 1s - loss: 0.0029 - acc: 1.0000 - val_loss: 0.0022 - val_acc: 1.0000\n"
     ]
    }
   ],
   "source": [
    "history = model.fit_generator(datagen, steps_per_epoch=200, epochs=15, verbose=1,\n",
    "                             validation_data=val_datagen, validation_steps=4)"
   ]
  },
  {
   "cell_type": "code",
   "execution_count": 12,
   "metadata": {},
   "outputs": [
    {
     "data": {
      "text/plain": [
       "<matplotlib.legend.Legend at 0x11c71a7d0>"
      ]
     },
     "execution_count": 12,
     "metadata": {},
     "output_type": "execute_result"
    },
    {
     "data": {
      "image/png": "[encoded data removed]",
      "text/plain": [
       "<matplotlib.figure.Figure at 0x11c785710>"
      ]
     },
     "metadata": {},
     "output_type": "display_data"
    }
   ],
   "source": [
    "plt.figure(figsize=(12, 4))\n",
    "plt.subplot(1, 2, 1)\n",
    "plt.plot(history.history['acc'], label='training')\n",
    "plt.plot(history.history['val_acc'], label='validation', alpha=0.7)\n",
    "plt.title('Accuracy')\n",
    "plt.xlabel('epoch')\n",
    "plt.legend()\n",
    "plt.subplot(1, 2, 2)\n",
    "plt.plot(history.history['loss'], label='training')\n",
    "plt.plot(history.history['val_loss'], label='validation', alpha=0.7)\n",
    "plt.title('Loss')\n",
    "plt.xlabel('epoch')\n",
    "plt.legend()"
   ]
  },
  {
   "cell_type": "code",
   "execution_count": 13,
   "metadata": {},
   "outputs": [
    {
     "name": "stdout",
     "output_type": "stream",
     "text": [
      "loss: 0.00349949840456, accuracy: 1.0\n"
     ]
    }
   ],
   "source": [
    "loss = model.evaluate_generator(datagen, steps=10)\n",
    "print(\"loss: {}, accuracy: {}\".format(loss[0], loss[1]))"
   ]
  },
  {
   "cell_type": "code",
   "execution_count": 14,
   "metadata": {},
   "outputs": [
    {
     "name": "stdout",
     "output_type": "stream",
     "text": [
      "The Convolution2D layer weights shape is: (5, 3, 1, 4)\n"
     ]
    }
   ],
   "source": [
    "weights = model.get_weights()[0]\n",
    "print(\"The Convolution2D layer weights shape is: {}\".format(weights.shape))"
   ]
  },
  {
   "cell_type": "markdown",
   "metadata": {},
   "source": [
    ", which is (height_kernel, width_kernel, input_channel_number, output_channel_number)"
   ]
  },
  {
   "cell_type": "markdown",
   "metadata": {},
   "source": [
    "# Understanding by visualising"
   ]
  },
  {
   "cell_type": "markdown",
   "metadata": {},
   "source": [
    "## Visualising the kernels"
   ]
  },
  {
   "cell_type": "code",
   "execution_count": 16,
   "metadata": {},
   "outputs": [
    {
     "data": {
      "image/png": "[encoded data removed]",
      "text/plain": [
       "<matplotlib.figure.Figure at 0x11cad9990>"
      ]
     },
     "metadata": {},
     "output_type": "display_data"
    }
   ],
   "source": [
    "plt.figure(figsize=(20, 4))\n",
    "titles = ['minor chord positive', 'minor chord negative?', 'wth??', 'minor chord positive']\n",
    "for i in range(4):\n",
    "    plt.subplot(1, 4, i+1)\n",
    "    plt.imshow(weights[:, :, 0, i], cmap=plt.get_cmap('Blues'))\n",
    "    plt.colorbar()\n",
    "    plt.title(titles[i])"
   ]
  },
  {
   "cell_type": "markdown",
   "metadata": {},
   "source": [
    "Okay, so out of four kernels, the 1st and 4th are definitely minor chord positive. Not sure for the other two.\n",
    "\n",
    "## Visualising the feature maps\n",
    "\n",
    "which is `conv(input, kernel)`."
   ]
  },
  {
   "cell_type": "code",
   "execution_count": 18,
   "metadata": {
    "collapsed": true
   },
   "outputs": [],
   "source": [
    "x_major = np.squeeze(x[0])\n",
    "x_minor = np.squeeze(x[-1])\n",
    "from scipy import signal\n",
    "def plot_convolution(x, kernels):\n",
    "    \"\"\"kernels: 3d, (height, width, channel) and four channels.\"\"\"\n",
    "    n_kernels = kernels.shape[2]\n",
    "    plt.figure(figsize=(9, 5))\n",
    "    plt.subplot(1, n_kernels+1, 1)\n",
    "    plt.imshow(x)\n",
    "    plt.title('Input x')\n",
    "    for idx in range(n_kernels):\n",
    "        plt.subplot(1, n_kernels+1, idx+2)\n",
    "        conved = signal.convolve2d(x, kernels[:, :, idx], mode='same')\n",
    "        plt.imshow(conved)\n",
    "        plt.title('max: {:4.2f}'.format(np.max(conved)))"
   ]
  },
  {
   "cell_type": "code",
   "execution_count": 19,
   "metadata": {},
   "outputs": [
    {
     "name": "stdout",
     "output_type": "stream",
     "text": [
      "Here's the feature map activation for a Major chord input\n"
     ]
    },
    {
     "data": {
      "image/png": "[encoded data removed]",
      "text/plain": [
       "<matplotlib.figure.Figure at 0x11c5a9490>"
      ]
     },
     "metadata": {},
     "output_type": "display_data"
    }
   ],
   "source": [
    "plot_convolution(x_major, weights[:, :, 0, :])\n",
    "print(\"Here's the feature map activation for a Major chord input\")"
   ]
  },
  {
   "cell_type": "code",
   "execution_count": 20,
   "metadata": {},
   "outputs": [
    {
     "name": "stdout",
     "output_type": "stream",
     "text": [
      "Here's for a minor chord input\n"
     ]
    },
    {
     "data": {
      "image/png": "[encoded data removed]",
      "text/plain": [
       "<matplotlib.figure.Figure at 0x11e81a290>"
      ]
     },
     "metadata": {},
     "output_type": "display_data"
    }
   ],
   "source": [
    "plot_convolution(x_minor, weights[:, :, 0, :])\n",
    "print(\"Here's for a minor chord input\")"
   ]
  },
  {
   "cell_type": "markdown",
   "metadata": {},
   "source": [
    "The 1st and 4th probably are most distinctive kernels. Now Let's move to the dense layer weights.\n",
    "\n",
    "## Dense layer weights"
   ]
  },
  {
   "cell_type": "code",
   "execution_count": 21,
   "metadata": {},
   "outputs": [
    {
     "name": "stdout",
     "output_type": "stream",
     "text": [
      "[[-0.50099331  2.33464241]\n",
      " [ 2.9126389  -3.8759408 ]\n",
      " [-0.6134612  -0.3230224 ]\n",
      " [-3.05488276  3.24755979]]\n"
     ]
    }
   ],
   "source": [
    "dense_weights = model.get_weights()[1]\n",
    "print(dense_weights)"
   ]
  },
  {
   "cell_type": "markdown",
   "metadata": {},
   "source": [
    "Look at the dense layer weights! Each row-->input, each column-->output. \n",
    "\n",
    "1. The 1st feature map will have an high activation on minor chords. \n",
    "  - After global maxpooling, this feature map will have large value on minor chord input, and small value on Major chord input. \n",
    "  - The value is multiplied to `-0.496` on the Major output node, and `2.33` on the minor output node. \n",
    "  - Seems alright, huh?\n",
    "\n",
    "2. The 2nd feature map will have a large negative activation on minor chord.\n",
    "\n",
    "3. Not sure what this kernel is doing. `[-0.6, -0.3]` weights also say this kernel is not too crucial.\n",
    "\n",
    "4. The 4th is minor chord positive. `[-3.05, 3.25` supports it again."
   ]
  },
  {
   "cell_type": "code",
   "execution_count": null,
   "metadata": {
    "collapsed": true
   },
   "outputs": [],
   "source": []
  }
 ],
 "metadata": {
  "kernelspec": {
   "display_name": "Python 3",
   "language": "python",
   "name": "python3"
  },
  "language_info": {
   "codemirror_mode": {
    "name": "ipython",
    "version": 3
   },
   "file_extension": ".py",
   "mimetype": "text/x-python",
   "name": "python",
   "nbconvert_exporter": "python",
   "pygments_lexer": "ipython3",
   "version": "3.7.4"
  }
 },
 "nbformat": 4,
 "nbformat_minor": 1
}
